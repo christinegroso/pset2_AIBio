{
 "cells": [
  {
   "cell_type": "code",
   "execution_count": 17,
   "metadata": {},
   "outputs": [],
   "source": [
    "#import modules\n",
    "import pandas as pd\n",
    "from sklearn.linear_model import LinearRegression\n",
    "\n",
    "#create a pandas dataframe from the csv\n",
    "df = pd.read_csv('/blue/zoo6927/share/Jupyter_Content/data/auto_mpg.csv')"
   ]
  },
  {
   "cell_type": "code",
   "execution_count": 18,
   "metadata": {},
   "outputs": [
    {
     "data": {
      "text/plain": [
       "0.7151475557845139"
      ]
     },
     "execution_count": 18,
     "metadata": {},
     "output_type": "execute_result"
    }
   ],
   "source": [
    "# create a new column in the dataframe\n",
    "df['weight_sq'] = df.weight**2\n",
    "\n",
    "#assign columns of the dataframe to variables x and y\n",
    "x = df[['weight', 'weight_sq']]\n",
    "y = df.mpg\n",
    "\n",
    "#create a linear regression model using the x and y variables\n",
    "model = LinearRegression().fit(x, y)\n",
    "\n",
    "#find the value of R^2\n",
    "model.score(x, y)"
   ]
  }
 ],
 "metadata": {
  "kernelspec": {
   "display_name": "Python 3.8 (full)",
   "language": "python",
   "name": "python3-3.8-ufrc"
  },
  "language_info": {
   "codemirror_mode": {
    "name": "ipython",
    "version": 3
   },
   "file_extension": ".py",
   "mimetype": "text/x-python",
   "name": "python",
   "nbconvert_exporter": "python",
   "pygments_lexer": "ipython3",
   "version": "3.8.5"
  }
 },
 "nbformat": 4,
 "nbformat_minor": 4
}
